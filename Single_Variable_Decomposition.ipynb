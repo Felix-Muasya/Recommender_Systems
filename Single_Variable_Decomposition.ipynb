{
  "nbformat": 4,
  "nbformat_minor": 0,
  "metadata": {
    "colab": {
      "name": "Single_Variable_Decomposition.ipynb",
      "provenance": [],
      "collapsed_sections": [],
      "toc_visible": true
    },
    "kernelspec": {
      "name": "python3",
      "display_name": "Python 3"
    },
    "language_info": {
      "name": "python"
    }
  },
  "cells": [
    {
      "cell_type": "code",
      "execution_count": 4,
      "metadata": {
        "colab": {
          "base_uri": "https://localhost:8080/"
        },
        "id": "Jc7fT1yOQo8E",
        "outputId": "d665de0d-55b5-41a8-d7b7-274295d2b373"
      },
      "outputs": [
        {
          "output_type": "stream",
          "name": "stdout",
          "text": [
            "--2022-07-01 10:24:53--  http://deepyeti.ucsd.edu/jmcauley/datasets/librarything/lthing_data.tar.gz\n",
            "Resolving deepyeti.ucsd.edu (deepyeti.ucsd.edu)... 169.228.63.50\n",
            "Connecting to deepyeti.ucsd.edu (deepyeti.ucsd.edu)|169.228.63.50|:80... connected.\n",
            "HTTP request sent, awaiting response... 200 OK\n",
            "Length: 622688699 (594M) [application/octet-stream]\n",
            "Saving to: ‘lthing_data.tar.gz’\n",
            "\n",
            "lthing_data.tar.gz  100%[===================>] 593.84M   103MB/s    in 5.9s    \n",
            "\n",
            "2022-07-01 10:24:59 (101 MB/s) - ‘lthing_data.tar.gz’ saved [622688699/622688699]\n",
            "\n"
          ]
        },
        {
          "output_type": "execute_result",
          "data": {
            "text/plain": [
              ""
            ]
          },
          "metadata": {},
          "execution_count": 4
        }
      ],
      "source": [
        "%%shell\n",
        "wget http://deepyeti.ucsd.edu/jmcauley/datasets/librarything/lthing_data.tar.gz"
      ]
    },
    {
      "cell_type": "code",
      "source": [
        "import tarfile\n",
        "with tarfile.open(\"lthing_data.tar.gz\") as tar:\n",
        "  print(\"File in tar archive:\")\n",
        "  tar.list()\n",
        "  print(\"Done\")\n",
        "\n",
        "  with tar.extractfile(\"lthing_data/reviews.json\") as file:\n",
        "    count = 0\n",
        "    for line in file:\n",
        "      print(line)\n",
        "      count += 1\n",
        "      if count > 3:\n",
        "        break\n",
        "  print(\"Done\")"
      ],
      "metadata": {
        "colab": {
          "base_uri": "https://localhost:8080/"
        },
        "id": "Nxifhu8gSvKz",
        "outputId": "50d36bbe-ebcb-4452-f693-c8d660ae84c4"
      },
      "execution_count": 6,
      "outputs": [
        {
          "output_type": "stream",
          "name": "stdout",
          "text": [
            "File in tar archive:\n",
            "?rwxr-xr-x julian/julian          0 2016-09-30 21:58:55 lthing_data/ \n",
            "?rw-r--r-- julian/julian    4824989 2014-01-02 18:55:12 lthing_data/edges.txt \n",
            "?rw-rw-r-- julian/julian 1604368260 2016-09-30 21:58:25 lthing_data/reviews.json \n",
            "Done\n",
            "b\"{'work': '3206242', 'flags': [], 'unixtime': 1194393600, 'stars': 5.0, 'nhelpful': 0, 'time': 'Nov 7, 2007', 'comment': 'This a great book for young readers to be introduced to the world of Middle Earth. ', 'user': 'van_stef'}\\n\"\n",
            "b\"{'work': '12198649', 'flags': [], 'unixtime': 1333756800, 'stars': 5.0, 'nhelpful': 0, 'time': 'Apr 7, 2012', 'comment': 'Help Wanted: Tales of On The Job Terror from Evil Jester Press is a fun and scary read. This book is edited by Peter Giglio and has short stories by Joe McKinney, Gary Brandner, Henry Snider and many more. As if work wasnt already scary enough, this book gives you more reasons to be scared. Help Wanted is an excellent anthology that includes some great stories by some master storytellers.\\\\nOne of the stories includes Agnes: A Love Story by David C. Hayes, which tells the tale of a lawyer named Jack who feels unappreciated at work and by his wife so he starts a relationship with a photocopier. They get along well until the photocopier starts wanting the lawyer to kill for it. The thing I liked about this story was how the author makes you feel sorry for Jack. His two co-workers are happily married and love their jobs while Jack is married to a paranoid alcoholic and he hates and works at a job he cant stand. You completely understand how he can fall in love with a copier because he is a lonely soul that no one understands except the copier of course.\\\\nAnother story in Help Wanted is Work Life Balance by Jeff Strand. In this story a man works for a company that starts to let their employees do what they want at work. It starts with letting them come to work a little later than usual, then the employees are allowed to hug and kiss on the job. Things get really out of hand though when the company starts letting employees carry knives and stab each other, as long as it doesnt interfere with their job. This story is meant to be more funny then scary but still has its scary moments. Jeff Strand does a great job mixing humor and horror in this story.\\\\nAnother good story in Help Wanted: On The Job Terror is The Chapel Of Unrest by Stephen Volk. This is a gothic horror story that takes place in the 1800s and has to deal with an undertaker who has the duty of capturing and embalming a ghoul who has been eating dead bodies in a graveyard. Stephen Volk through his use of imagery in describing the graveyard, the chapel and the clothes of the time, transports you into an 1800s gothic setting that reminded me of Bram Stokers Dracula.\\\\nOne more story in this anthology that I have to mention is Expulsion by Eric Shapiro which tells the tale of a mad man going into a office to kill his fellow employees. This is a very short but very powerful story that gets you into the mind of a disgruntled employee but manages to end on a positive note. Though there were stories I didnt like in Help Wanted, all in all its a very good anthology. I highly recommend this book ', 'user': 'dwatson2'}\\n\"\n",
            "b\"{'work': '12533765', 'flags': [], 'unixtime': 1352937600, 'nhelpful': 0, 'time': 'Nov 15, 2012', 'comment': 'Magoon, K. (2012). Fire in the streets. New York: Simon and Schuster/Aladdin. 336 pp. ISBN: 978-1-4424-2230-8. (Hardcover); $16.99.\\\\nKekla Magoon is an author to watch (http://www.spicyreads.org/Author_Videos.html- scroll down). One of my favorite books from 2007 is Magoons The Rock and the River. At the time, I mentioned in reviews that we have very few books that even mention the Black Panther Party, let alone deal with them in a careful, thorough way. Fire in the Streets continues the story Magoon began in her debut book. While her familys financial fortunes drip away, not helped by her mothers drinking and assortment of boyfriends, the Panthers provide a very real respite for Maxie. Sam is still dealing with the death of his brother. Maxies relationship with Sam only serves to confuse and upset them both. Her friends, Emmalee and Patrice, are slowly drifting away. The Panther Party is the only thing that seems to make sense and she basks in its routine and consistency. She longs to become a full member of the Panthers and constantly battles with her Panther brother Raheem over her maturity and ability to do more than office tasks. Maxie wants to have her own gun. When Maxie discovers that there is someone working with the Panthers that is leaking information to the government about Panther activity, Maxie investigates. Someone is attempting to destroy the only place that offers her shelter. Maxie is determined to discover the identity of the traitor, thinking that this will prove her worth to the organization. However, the truth is not simple and it is filled with pain. Unfortunately we still do not have many teen books that deal substantially with the Democratic National Convention in Chicago, the Black Panther Party, and the social problems in Chicago that lead to the civil unrest. Thankfully, Fire in the Streets lives up to the standard Magoon set with The Rock and the River. Readers will feel like they have stepped back in time. Magoons factual tidbits add journalistic realism to the story and only improves the atmosphere. Maxie has spunk. Readers will empathize with her Atlas-task of trying to hold onto her world. Fire in the Streets belongs in all middle school and high school libraries. While readers are able to read this story independently of The Rock and the River, I strongly urge readers to read both and in order. Magoons recognition by the Coretta Scott King committee and the NAACP Image awards are NOT mistakes!', 'user': 'edspicer'}\\n\"\n",
            "b'{\\'work\\': \\'12981302\\', \\'flags\\': [], \\'unixtime\\': 1364515200, \\'stars\\': 4.0, \\'nhelpful\\': 0, \\'time\\': \\'Mar 29, 2013\\', \\'comment\\': \"Well, I definitely liked this book better than the last in the series. There was less fighting and more story. I liked both Toni and Ricky Lee and thought they were pretty good together. The banter between the two was sweet and often times funny. I enjoyed seeing some of the past characters and of course it\\'s always nice to be introduced to new ones. I just wonder how many more of these books there will be. At least two hopefully, one each for Rory and Reece. \", \\'user\\': \\'amdrane2\\'}\\n'\n",
            "Done\n"
          ]
        }
      ]
    },
    {
      "cell_type": "code",
      "source": [
        "import ast\n",
        "reviews = []\n",
        "with tarfile.open(\"lthing_data.tar.gz\") as tar:\n",
        "  with tar.extractfile(\"lthing_data/reviews.json\") as file:\n",
        "    for line in file:\n",
        "      record = ast.literal_eval(line.decode(\"utf8\"))\n",
        "      if any( x not in record for x in ['user', 'work', 'stars']):\n",
        "        continue\n",
        "      reviews.append([record['user'], record['work'], record['stars']])\n",
        "print(len(reviews), \"records retrieved\")\n"
      ],
      "metadata": {
        "colab": {
          "base_uri": "https://localhost:8080/"
        },
        "id": "GvZbvzxQUVDJ",
        "outputId": "ef077c37-18c3-4e36-c31b-044e5b0927e8"
      },
      "execution_count": 7,
      "outputs": [
        {
          "output_type": "stream",
          "name": "stdout",
          "text": [
            "1387209 records retrieved\n"
          ]
        }
      ]
    },
    {
      "cell_type": "code",
      "source": [
        "import pandas as pd\n",
        "reviews = pd.DataFrame(reviews, columns=['user', 'work', 'stars'])\n",
        "print(reviewse)"
      ],
      "metadata": {
        "colab": {
          "base_uri": "https://localhost:8080/"
        },
        "id": "x3Us0cdoV2dP",
        "outputId": "aaa8439d-fcc2-4bc3-e587-1f1e3018c866"
      },
      "execution_count": 10,
      "outputs": [
        {
          "output_type": "stream",
          "name": "stdout",
          "text": [
            "                  user      work  stars\n",
            "0             van_stef   3206242    5.0\n",
            "1             dwatson2  12198649    5.0\n",
            "2             amdrane2  12981302    4.0\n",
            "3        Lila_Gustavus   5231009    3.0\n",
            "4            skinglist    184318    2.0\n",
            "...                ...       ...    ...\n",
            "1387204        wirtley  10051104    5.0\n",
            "1387205         drruth     94456    5.0\n",
            "1387206       jclark88   8253945    3.0\n",
            "1387207         Jellyn   5377722    3.0\n",
            "1387208        koeniel    452711    4.0\n",
            "\n",
            "[1387209 rows x 3 columns]\n"
          ]
        }
      ]
    },
    {
      "cell_type": "code",
      "source": [
        "# looking for users who reviewed more than 50 books\n",
        "usercount = reviews[['work', 'user']].groupby('user').count()\n",
        "usercount = usercount[usercount['work'] >= 50]\n",
        "print(usercount)"
      ],
      "metadata": {
        "colab": {
          "base_uri": "https://localhost:8080/"
        },
        "id": "E1x0d9FlWPpD",
        "outputId": "bfadf47f-3512-42c4-bab9-98119bc90a1c"
      },
      "execution_count": 11,
      "outputs": [
        {
          "output_type": "stream",
          "name": "stdout",
          "text": [
            "            work\n",
            "user            \n",
            "              84\n",
            "-Eva-        602\n",
            "06nwingert   370\n",
            "1983mk        63\n",
            "1dragones    194\n",
            "...          ...\n",
            "zjakkelien   121\n",
            "zmagic69     148\n",
            "zquilts       67\n",
            "zwaantje     121\n",
            "zzshupinga   246\n",
            "\n",
            "[5736 rows x 1 columns]\n"
          ]
        }
      ]
    },
    {
      "cell_type": "code",
      "source": [
        "# Look for the books that were reviewed by more than 50 users\n",
        "workcount = reviews[[\"work\",\"user\"]].groupby(\"work\").count()\n",
        "workcount = workcount[workcount[\"user\"] >= 50]\n",
        "print(workcount)"
      ],
      "metadata": {
        "colab": {
          "base_uri": "https://localhost:8080/"
        },
        "id": "evj2GL5dW94b",
        "outputId": "58ba7c92-3523-45cf-a635-642dd51ae946"
      },
      "execution_count": 14,
      "outputs": [
        {
          "output_type": "stream",
          "name": "stdout",
          "text": [
            "          user\n",
            "work          \n",
            "10000       74\n",
            "1000167    106\n",
            "10005525   107\n",
            "10007394    61\n",
            "10007399    56\n",
            "...        ...\n",
            "9964442     53\n",
            "9978        58\n",
            "9979582    193\n",
            "9989655     69\n",
            "9993        51\n",
            "\n",
            "[1595 rows x 1 columns]\n"
          ]
        }
      ]
    },
    {
      "cell_type": "code",
      "source": [
        "...\n",
        "# Keep only the popular books and active users\n",
        "reviews = reviews[reviews[\"user\"].isin(usercount.index) & reviews[\"work\"].isin(workcount.index)]\n",
        "print(reviews)"
      ],
      "metadata": {
        "colab": {
          "base_uri": "https://localhost:8080/"
        },
        "id": "l_UqElLBXKYH",
        "outputId": "07551aae-7a3f-411d-e893-396c3925f046"
      },
      "execution_count": 13,
      "outputs": [
        {
          "output_type": "stream",
          "name": "stdout",
          "text": [
            "                user     work  stars\n",
            "0           van_stef  3206242    5.0\n",
            "6            justine     3067    4.5\n",
            "18           stephmo  1594925    4.0\n",
            "19         Eyejaybee  2849559    5.0\n",
            "35       LisaMaria_C   452949    4.5\n",
            "...              ...      ...    ...\n",
            "1387161     connie53     1653    4.0\n",
            "1387177   BruderBane    24623    4.5\n",
            "1387192  StuartAston  8282225    4.0\n",
            "1387202      danielx  9759186    4.0\n",
            "1387206     jclark88  8253945    3.0\n",
            "\n",
            "[205110 rows x 3 columns]\n"
          ]
        }
      ]
    },
    {
      "cell_type": "code",
      "source": [
        "reviewmatrix = reviews.pivot(index=\"user\", columns=\"work\", values=\"stars\").fillna(0)\n",
        "print(reviewmatrix)\n",
        "print(reviewmatrix.shape)"
      ],
      "metadata": {
        "colab": {
          "base_uri": "https://localhost:8080/"
        },
        "id": "QuL84wmGXVB2",
        "outputId": "56880867-fe57-49c2-f91a-d7de8cca9b51"
      },
      "execution_count": 17,
      "outputs": [
        {
          "output_type": "stream",
          "name": "stdout",
          "text": [
            "work        10000  10001  1000167  10001797  10005525  10007394  10007399  \\\n",
            "user                                                                        \n",
            "              0.0    0.0      0.0       0.0       0.0       0.0       0.0   \n",
            "-Eva-         0.0    0.0      0.0       0.0       0.0       0.0       0.0   \n",
            "06nwingert    0.0    0.0      0.0       0.0       0.0       0.0       0.0   \n",
            "1983mk        0.0    0.0      0.0       0.0       0.0       0.0       0.0   \n",
            "1dragones     5.0    4.0      0.0       0.0       0.0       0.0       0.0   \n",
            "...           ...    ...      ...       ...       ...       ...       ...   \n",
            "zjakkelien    0.0    0.0      0.0       0.0       0.0       0.0       0.0   \n",
            "zmagic69      0.0    0.0      0.0       0.0       0.0       0.0       0.0   \n",
            "zquilts       0.0    0.0      0.0       0.0       0.0       0.0       0.0   \n",
            "zwaantje      0.0    0.0      0.0       0.0       0.0       0.0       0.0   \n",
            "zzshupinga    0.0    0.0      0.0       0.0       0.0       0.0       0.0   \n",
            "\n",
            "work        10009  10012725  10012975  ...  9978  9979582  9984  9986454  \\\n",
            "user                                   ...                                 \n",
            "              0.0       0.0       0.0  ...   0.0      0.0   0.0      0.0   \n",
            "-Eva-         0.0       0.0       0.0  ...   0.0      3.5   0.0      0.0   \n",
            "06nwingert    0.0       0.0       0.0  ...   0.0      0.0   0.0      0.0   \n",
            "1983mk        0.0       0.0       0.0  ...   0.0      0.0   0.0      0.0   \n",
            "1dragones     0.0       0.0       0.0  ...   0.0      0.0   0.0      0.0   \n",
            "...           ...       ...       ...  ...   ...      ...   ...      ...   \n",
            "zjakkelien    0.0       0.0       0.0  ...   0.0      0.0   0.0      0.0   \n",
            "zmagic69      0.0       0.0       0.0  ...   0.0      0.0   0.0      0.0   \n",
            "zquilts       0.0       0.0       0.0  ...   0.0      0.0   0.0      0.0   \n",
            "zwaantje      0.0       0.0       0.0  ...   0.0      0.0   0.0      0.0   \n",
            "zzshupinga    0.0       0.0       0.0  ...   0.0      0.0   0.0      0.0   \n",
            "\n",
            "work        9989632  9989655  9989664  9993  9997232  9998  \n",
            "user                                                        \n",
            "                0.0      0.0      0.0   0.0      0.0   0.0  \n",
            "-Eva-           0.0      0.0      0.0   0.0      0.0   0.0  \n",
            "06nwingert      0.0      0.0      0.0   0.0      0.0   0.0  \n",
            "1983mk          0.0      0.0      0.0   0.0      0.0   0.0  \n",
            "1dragones       0.0      4.0      0.0   0.0      0.0   0.0  \n",
            "...             ...      ...      ...   ...      ...   ...  \n",
            "zjakkelien      0.0      0.0      0.0   0.0      0.0   0.0  \n",
            "zmagic69        0.0      0.0      0.0   0.0      0.0   0.0  \n",
            "zquilts         0.0      0.0      0.0   0.0      0.0   0.0  \n",
            "zwaantje        0.0      0.0      0.0   0.0      0.0   0.0  \n",
            "zzshupinga      0.0      0.0      0.0   0.0      0.0   0.0  \n",
            "\n",
            "[5593 rows x 2898 columns]\n",
            "(5593, 2898)\n"
          ]
        }
      ]
    },
    {
      "cell_type": "code",
      "source": [
        "from numpy.linalg import svd\n",
        "matrix = reviewmatrix.values\n",
        "u, s, vh = svd(matrix, full_matrices=False)"
      ],
      "metadata": {
        "id": "K340hmgNX3jG"
      },
      "execution_count": 19,
      "outputs": []
    },
    {
      "cell_type": "code",
      "source": [
        "import numpy as np\n",
        "def cosine_similarity(v,u):\n",
        "    return (v @ u)/ (np.linalg.norm(v) * np.linalg.norm(u))\n",
        " \n",
        "highest_similarity = -np.inf\n",
        "highest_sim_col = -1\n",
        "for col in range(1,vh.shape[1]):\n",
        "    similarity = cosine_similarity(vh[:,0], vh[:,col])\n",
        "    if similarity > highest_similarity:\n",
        "        highest_similarity = similarity\n",
        "        highest_sim_col = col\n",
        " \n",
        "print(\"Column %d is most similar to column 0\" % highest_sim_col)"
      ],
      "metadata": {
        "colab": {
          "base_uri": "https://localhost:8080/"
        },
        "id": "oQdtmKbYYZAR",
        "outputId": "5c637486-f894-4b1d-b29c-6385bb3548d7"
      },
      "execution_count": 22,
      "outputs": [
        {
          "output_type": "stream",
          "name": "stdout",
          "text": [
            "Column 598 is most similar to column 0\n"
          ]
        }
      ]
    }
  ]
}